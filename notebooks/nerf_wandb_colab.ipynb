{
  "cells": [
    {
      "cell_type": "markdown",
      "metadata": {
        "id": "MVL5k-A-3IM-"
      },
      "source": [
        "# NeRF-WandB-COLAB\n",
        "\n",
        "### [NeRF 공식 저장소](https://github.com/bmild/nerf)를 수정하여 [wandb 연동이 편리하도록 만든 저장소](https://github.com/ProtossDragoon/nerf-wandb.git)의 소스코드를 이용해 커스텀 데이터셋에 NeRF 모델 학습\n",
        "\n",
        "Plank-ing Hyundong 3D Reconstruction Project\n",
        "Created 2022.07.12 <br>\n",
        "\n",
        "**NoteBook Author** <br>\n",
        "[Janghoo Lee](https://www.linkedin.com/in/janghoo-lee-25212a1a0) <br>\n",
        "🎓 : [ProtossDragoon](https://github.com/ProtossDragoon) <br>\n",
        "📧 : dlwkdgn3@gmail.com <br>\n",
        "\n",
        "🤔 If you have any questions, please raise an issue in our [github repo](https://github.com/ProtossDragoon/PlankHyundong)."
      ]
    },
    {
      "cell_type": "markdown",
      "metadata": {
        "id": "x1eP2p5xiHZC"
      },
      "source": [
        "## 환경"
      ]
    },
    {
      "cell_type": "markdown",
      "metadata": {
        "id": "aqzSoc2sc0Xw"
      },
      "source": [
        "### GPU 확인"
      ]
    },
    {
      "cell_type": "code",
      "execution_count": null,
      "metadata": {
        "id": "IKY7DknIczR1"
      },
      "outputs": [],
      "source": [
        "gpu_info = !nvidia-smi\n",
        "gpu_info = '\\n'.join(gpu_info)\n",
        "if gpu_info.find('failed') >= 0:\n",
        "    print('Not connected to a GPU')\n",
        "else:\n",
        "    print(gpu_info)"
      ]
    },
    {
      "cell_type": "markdown",
      "metadata": {},
      "source": [
        "### Colab 업데이트로 인한 기본 파이썬 버전 변경에 따른 CUDA, cudnn, 파이썬, TF 재설치"
      ]
    },
    {
      "cell_type": "markdown",
      "metadata": {
        "id": "_rCeqkOXiIxP"
      },
      "source": [
        "### CUDA 10.0 설치"
      ]
    },
    {
      "cell_type": "code",
      "execution_count": null,
      "metadata": {
        "id": "v5ICatu2VHRh"
      },
      "outputs": [],
      "source": [
        "!wget --no-clobber  https://developer.nvidia.com/compute/cuda/10.0/Prod/local_installers/cuda-repo-ubuntu1604-10-0-local-10.0.130-410.48_1.0-1_amd64\n",
        "!dpkg -i /content/cuda-repo-ubuntu1604-10-0-local-10.0.130-410.48_1.0-1_amd64\n",
        "!apt-key add /var/cuda-repo-10-0-local-10.0.130-410.48/7fa2af80.pub\n",
        "!apt-get update\n",
        "!apt-get install cuda-10-0\n",
        "!export CUDA_PATH=/usr/local/cuda-10.0/"
      ]
    },
    {
      "cell_type": "markdown",
      "metadata": {
        "id": "sr4QUYQPzktT"
      },
      "source": [
        "### cudnn 7.6 설치 및 설정"
      ]
    },
    {
      "cell_type": "code",
      "execution_count": null,
      "metadata": {
        "id": "Fw0-bVKTzoAC"
      },
      "outputs": [],
      "source": [
        "!tar -xzvf /content/drive/MyDrive/NeRF/cudnn-10.0-linux-x64-v7.6.5.32.tgz -C /usr/local/\n",
        "!chmod a+r /usr/local/cuda-10.0/include/cudnn.h\n",
        "!tar -xzvf /content/drive/MyDrive/NeRF/cudnn-10.0-linux-x64-v7.6.5.32.tgz -C /usr/local/\n",
        "!chmod a+r /usr/local/cuda/include/cudnn.h\n",
        "!cat /usr/local/cuda-10.0/include/cudnn.h | grep CUDNN_MAJOR -A 2"
      ]
    },
    {
      "cell_type": "markdown",
      "metadata": {
        "id": "2GG2BZU9zqJv"
      },
      "source": [
        "### 파이썬 버전 변경"
      ]
    },
    {
      "cell_type": "code",
      "execution_count": null,
      "metadata": {
        "id": "MmCetqIqzsbw"
      },
      "outputs": [],
      "source": [
        "%%bash\n",
        "\n",
        "MINICONDA_INSTALLER_SCRIPT=Miniconda3-4.5.11-Linux-x86_64.sh\n",
        "MINICONDA_PREFIX=/usr/local\n",
        "wget https://repo.continuum.io/miniconda/$MINICONDA_INSTALLER_SCRIPT\n",
        "chmod +x $MINICONDA_INSTALLER_SCRIPT\n",
        "./$MINICONDA_INSTALLER_SCRIPT -b -f -p $MINICONDA_PREFIX\n",
        "\n",
        "import sys\n",
        "_ = (sys.path.append(\"/usr/local/lib/python3.7/site-packages\"))\n",
        "\n",
        "!python --version"
      ]
    },
    {
      "cell_type": "markdown",
      "metadata": {
        "id": "QX2GascLzwMF"
      },
      "source": [
        "### TF 1.15 설치"
      ]
    },
    {
      "cell_type": "code",
      "execution_count": null,
      "metadata": {
        "id": "e4AQNSlAzzsS"
      },
      "outputs": [],
      "source": [
        "!pip install --upgrade pip setuptools\n",
        "!pip uninstall protobuf\n",
        "!pip install protobuf==3.20.1\n",
        "!pip uninstall tensorflow\n",
        "!pip install tensorflow-gpu==1.15"
      ]
    },
    {
      "cell_type": "markdown",
      "metadata": {
        "id": "UfniLbvYiGB-"
      },
      "source": [
        "### 의존 패키지 설치"
      ]
    },
    {
      "cell_type": "code",
      "execution_count": null,
      "metadata": {
        "id": "rR4cG_kBNzXK"
      },
      "outputs": [],
      "source": [
        "!apt-get update\n",
        "!sudo apt -qq install imagemagick\n",
        "!pip install ConfigArgParse -qqq\n",
        "!pip install imageio-ffmpeg -qqq"
      ]
    },
    {
      "cell_type": "markdown",
      "metadata": {
        "id": "c4GZliRBiMRz"
      },
      "source": [
        "### NeRF 소스코드 다운로드"
      ]
    },
    {
      "cell_type": "code",
      "execution_count": null,
      "metadata": {
        "id": "UCOpGC4PUeG-"
      },
      "outputs": [],
      "source": [
        "!git clone https://github.com/ProtossDragoon/nerf-wandb.git"
      ]
    },
    {
      "cell_type": "code",
      "execution_count": null,
      "metadata": {
        "id": "zCNErlnlU5Kp"
      },
      "outputs": [],
      "source": [
        "%cd nerf-wandb\n",
        "#!git checkout dev # 개발 중\n",
        "!ls -al"
      ]
    },
    {
      "cell_type": "markdown",
      "metadata": {
        "id": "iXI9GS5UqMo4"
      },
      "source": [
        "### Weight and Bias 설치\n",
        "\n",
        "- 실험 관리 도구로 wandb 를 사용합니다.\n",
        "- 개인 wandb 프로젝트가 아닌, [plank-hyundong](https://wandb.ai/plank-hyundong) 팀의 [wandb 프로젝트 plank-hyundong](https://wandb.ai/plank-hyundong/plank-hyundong) 저장소를 사용하려면 관리자(dlwkdgn1@naver.com)에게 접근 키를 문의하세요.\n",
        "- 개인 저장소를 사용하려면 `wandb.login()` 셀을 실행할 때 개인 계정으로 로그인하고, `python run_nerf.py` 셀을 실행할 때 파라미터 중 `--wandbproject` 와 `--wandbentity` 값을 변경하면 됩니다."
      ]
    },
    {
      "cell_type": "code",
      "execution_count": null,
      "metadata": {
        "id": "fi9pb9smHwt0"
      },
      "outputs": [],
      "source": [
        "#Weight and Bias 설치(dependency issue)\n",
        "!pip install wandb==0.13.11 # Version is fixed due to dependency conflicts with newer versions."
      ]
    },
    {
      "cell_type": "code",
      "execution_count": null,
      "metadata": {
        "id": "XTDqG14CMEod"
      },
      "outputs": [],
      "source": [
        "# Log in to your W&B account\n",
        "import os\n",
        "os.environ['WANDB__EXECUTABLE'] = '/usr/local/bin/python3'  # Python was reinstalled, so the PATH environment variable needs to be updated.\n",
        "import wandb\n",
        "wandb.login()"
      ]
    },
    {
      "cell_type": "markdown",
      "metadata": {
        "id": "rZ4Avx7jhSB1"
      },
      "source": [
        "## 커스텀 데이터로 실행\n",
        "\n",
        "- LLFF 를 통해 얻은 pose 가 필요합니다.\n",
        "- LLFF 을 실행하려면 [Plankhyundong 저장소](https://github.com/ProtossDragoon/PlankHyundong)의 [colmap_colab 노트북](https://github.com/ProtossDragoon/PlankHyundong/blob/main/notebooks/colmap_colab.ipynb)을 참고하세요."
      ]
    },
    {
      "cell_type": "markdown",
      "metadata": {
        "id": "KgvNCcbtilPF"
      },
      "source": [
        "### 구글 드라이브 연결"
      ]
    },
    {
      "cell_type": "code",
      "execution_count": null,
      "metadata": {
        "id": "YE0JwAeFbm_n"
      },
      "outputs": [],
      "source": [
        "from google.colab import drive\n",
        "drive.mount('/content/drive/', force_remount=True)"
      ]
    },
    {
      "cell_type": "markdown",
      "metadata": {
        "id": "dveNzsG2fqMp"
      },
      "source": [
        "### 파라미터 설정"
      ]
    },
    {
      "cell_type": "code",
      "execution_count": null,
      "metadata": {
        "id": "liKXJaPw0eES"
      },
      "outputs": [],
      "source": [
        "from datetime import datetime\n",
        "now = datetime.now().strftime('%y%m%d_%H%M%S')\n",
        "\n",
        "dataset_name = 'hyundong360_50' #@param ['hyundong360_50', 'hyundong360_100', 'hyundong360_200', 'hyundong360_400', 'noparking360_100', 'noparking360_200', 'noparking360_400', 'noparking720_100', 'noparking720_200', 'noparking720_400', 'hyundong360_100_background', 'hyundong360_100_cleanup', 'hyundong360_50_cleanup', 'hyundong360_25_cleanup']\n",
        "downsample_factor = 4 #@param {type:\"slider\", min:1, max:64, step:1}\n",
        "netdepth = 6 #@param {type:\"slider\", min:4, max:16, step:2}\n",
        "netwidth = 96 #@param {type:\"slider\", min:64, max:256, step:4}\n",
        "experiment_name = f'{dataset_name}_{downsample_factor}_downsampled_{now}'\n",
        "max_iter = 30000 #@param\n",
        "learning_rate = 0.001 #@param\n",
        "video_saving_cnt = 3 #@param {type:\"slider\", min:1, max:10, step:1}\n",
        "n_samples = 128 #@param {type:\"slider\", min:32, max:256, step:32}\n",
        "\n",
        "# fine 모델에서 사용되는 샘플 개수는 coarse 모델의 sampling 개수의 2배로 설정한다.\n",
        "# 공식 논문에서 제안하는 대로, 64이면 128.\n",
        "n_importance = n_samples * 2\n",
        "\n",
        "# Reproduce 를 위해 고정 random_seed 를 사용\n",
        "random_seed = 777 #@param\n",
        "\n",
        "# tradeoff: memory <-> speed (training 에는 속도와 성능 모두에 영향을 미치지 않음. 학습 도중 동영상을 만들 때 OOM 이 난다면 충분히 낮출 것)\n",
        "rendering_speed = 2048 #@param {type:\"slider\", min:1024, max:16384, step:1024}\n",
        "\n",
        "# tradeoff: memory <-> result\n",
        "n_points_per_ray = 65536 #@param {type:\"slider\", min:2048, max:262144, step:1024}\n",
        "\n",
        "_dummy_dir = '/content/drive/MyDrive/PlankHyundong/data/logs/{experiment_name}'\n",
        "_tensorboard_logdir = '/content/drive/MyDrive/PlankHyundong/data/logs/summaries/{experiment_name}'\n",
        "print(f'experiment: {experiment_name}')"
      ]
    },
    {
      "cell_type": "markdown",
      "metadata": {
        "id": "dbOBetLvzBB5"
      },
      "source": [
        "Mesh 코드를 실행하기 위한 config.txt 생성"
      ]
    },
    {
      "cell_type": "code",
      "execution_count": null,
      "metadata": {
        "id": "B2NFso0pzBB5"
      },
      "outputs": [],
      "source": [
        "# Make config.txt file.\n",
        "f = open(\"/content/drive/MyDrive/PlankHyundong/data/logs/config.txt\", 'w')\n",
        "def make_config(a, b):\n",
        "\n",
        "  if b is None:\n",
        "    f.write(a + '\\n')\n",
        "  else:\n",
        "    data = a + ' = ' + b + '\\n'\n",
        "    f.write(data)\n",
        "\n",
        "\n",
        "make_config(\"maxiter\", str(max_iter))\n",
        "make_config(\"datadir\", '/content/drive/MyDrive/PlankHyundong/data')\n",
        "make_config(\"basedir\", '/content/drive/MyDrive/PlankHyundong/data/logs')\n",
        "make_config(\"dataset_type\", 'llff') # If the execution fails, remove the below code and try running the code again.\n",
        "make_config('factor', str(downsample_factor))\n",
        "make_config('netdepth', str(netdepth))\n",
        "make_config('netwidth', str(netwidth))\n",
        "make_config('netdepth_fine', str(netdepth))\n",
        "make_config('netwidth_fine', str(netwidth))\n",
        "make_config('chunk', str(rendering_speed))\n",
        "make_config('netchunk', str(n_points_per_ray))\n",
        "make_config('lrate', str(learning_rate))\n",
        "make_config('i_video', str(max_iter // video_saving_cnt))\n",
        "make_config('expname', experiment_name)\n",
        "make_config('N_samples', str(n_samples))\n",
        "make_config('N_importance', str(n_importance))\n",
        "make_config('random_seed', str(random_seed))\n",
        "make_config('raw_noise_std', '1.0')\n",
        "make_config('use_viewdirs', None)\n",
        "make_config('no_ndc', None)\n",
        "make_config('spherify', None)\n",
        "make_config('lindisp', None)\n",
        "\n",
        "f.close()"
      ]
    },
    {
      "cell_type": "markdown",
      "metadata": {
        "id": "F8MJJmk82f53"
      },
      "source": [
        "### config.txt에 따른 변수명 변경 및 GPU 설정"
      ]
    },
    {
      "cell_type": "code",
      "execution_count": null,
      "metadata": {
        "id": "F4xNp3LI3Zzl"
      },
      "outputs": [],
      "source": [
        "!pip install imageio\n",
        "def modify_file(file_path):\n",
        "    try:\n",
        "        # 파일 읽기\n",
        "        with open(file_path, 'r') as file:\n",
        "            lines = file.readlines()\n",
        "\n",
        "        # 특정 라인을 찾아 수정\n",
        "        for i, line in enumerate(lines):\n",
        "            if 'ignoregamma=True' in line:\n",
        "                lines[i] = line.replace('ignoregamma=True', 'apply_gamma=False')\n",
        "                break\n",
        "\n",
        "        # 파일 쓰기\n",
        "        with open(file_path, 'w') as file:\n",
        "            file.writelines(lines)\n",
        "\n",
        "        print(f\"Successfully modified {file_path}\")\n",
        "\n",
        "    except Exception as e:\n",
        "        print(f\"An error occurred: {e}\")\n",
        "\n",
        "if __name__ == \"__main__\":\n",
        "    file_path = 'load_llff.py'\n",
        "    modify_file(file_path)\n",
        "\n",
        "import os\n",
        "os.environ[\"CUDA_VISIBLE_DEVICES\"] = \"0\""
      ]
    },
    {
      "cell_type": "markdown",
      "metadata": {
        "id": "B92V4lDPhU4B"
      },
      "source": [
        "### 학습 시작\n",
        "\n",
        "- 360도에 걸쳐 촬영한 데이터의 경우, `--no_ndc`, `--spherify`, `--lindisp` 를 추가하세요."
      ]
    },
    {
      "cell_type": "code",
      "execution_count": null,
      "metadata": {
        "id": "72ae68SS_nWI"
      },
      "outputs": [],
      "source": [
        "!python run_nerf.py \\\n",
        "    --wandbproject {'plank-hyundong'} \\\n",
        "    --wandbentity {'plank-hyundong'} \\\n",
        "    --maxiter {max_iter} \\\n",
        "    --datadir /content/drive/MyDrive/PlankHyundong/data \\\n",
        "    --basedir /content/drive/MyDrive/PlankHyundong/data/logs \\\n",
        "    --dataset_type llff \\\n",
        "    --factor {downsample_factor} \\\n",
        "    --netdepth {netdepth} \\\n",
        "    --netwidth {netwidth} \\\n",
        "    --netdepth_fine {netdepth} \\\n",
        "    --netwidth_fine {netwidth} \\\n",
        "    --chunk {rendering_speed} \\\n",
        "    --netchunk {n_points_per_ray} \\\n",
        "    --lrate {learning_rate} \\\n",
        "    --i_video {max_iter // video_saving_cnt} \\\n",
        "    --expname {experiment_name} \\\n",
        "    --N_samples {n_samples} \\\n",
        "    --N_importance {n_importance} \\\n",
        "    --random_seed {random_seed} \\\n",
        "    --raw_noise_std 1.0 \\\n",
        "    --use_viewdirs \\\n",
        "    --no_ndc \\\n",
        "    --spherify \\\n",
        "    --lindisp"
      ]
    }
  ],
  "metadata": {
    "accelerator": "GPU",
    "colab": {
      "private_outputs": true,
      "provenance": []
    },
    "gpuClass": "standard",
    "kernelspec": {
      "display_name": "Python 3.9.1 64-bit",
      "language": "python",
      "name": "python3"
    },
    "language_info": {
      "name": "python",
      "version": "3.9.1"
    },
    "vscode": {
      "interpreter": {
        "hash": "aee8b7b246df8f9039afb4144a1f6fd8d2ca17a180786b69acc140d282b71a49"
      }
    }
  },
  "nbformat": 4,
  "nbformat_minor": 0
}
