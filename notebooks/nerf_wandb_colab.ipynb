{
  "nbformat": 4,
  "nbformat_minor": 0,
  "metadata": {
    "colab": {
      "name": "nerf_wandb_colab.ipynb",
      "private_outputs": true,
      "provenance": [],
      "collapsed_sections": [],
      "machine_shape": "hm",
      "toc_visible": true
    },
    "kernelspec": {
      "name": "python3",
      "display_name": "Python 3"
    },
    "language_info": {
      "name": "python"
    },
    "accelerator": "GPU",
    "gpuClass": "standard"
  },
  "cells": [
    {
      "cell_type": "markdown",
      "source": [
        "# NeRF-WANDB-COLAB\n",
        "\n",
        "### [NeRF 공식 저장소](https://github.com/bmild/nerf)를 수정하여 [wandb 연동이 편리하도록 만든 저장소](https://github.com/ProtossDragoon/nerf-wandb.git)의 소스코드를 이용해 커스텀 데이터셋에 NeRF 모델 학습\n",
        "\n",
        "Plank-ing Hyundong 3D Reconstruction Project\n",
        "Created 2022.07.12 <br>\n",
        "\n",
        "**NoteBook Author** <br>\n",
        "[Janghoo Lee](https://www.linkedin.com/in/janghoo-lee-25212a1a0) <br>\n",
        "🎓 : [ProtossDragoon](https://github.com/ProtossDragoon) <br>\n",
        "📧 : dlwkdgn3@gmail.com <br>\n",
        "\n",
        "🤔 If you have any questions, please raise an issue in our [github repo](https://github.com/ProtossDragoon/PlankHyundong)."
      ],
      "metadata": {
        "id": "MVL5k-A-3IM-"
      }
    },
    {
      "cell_type": "markdown",
      "source": [
        "## 환경"
      ],
      "metadata": {
        "id": "x1eP2p5xiHZC"
      }
    },
    {
      "cell_type": "markdown",
      "source": [
        "### TF 런타임 변경"
      ],
      "metadata": {
        "id": "_rCeqkOXiIxP"
      }
    },
    {
      "cell_type": "code",
      "source": [
        "%tensorflow_version 1.x"
      ],
      "metadata": {
        "id": "v5ICatu2VHRh"
      },
      "execution_count": null,
      "outputs": []
    },
    {
      "cell_type": "markdown",
      "source": [
        "### 의존 패키지 설치"
      ],
      "metadata": {
        "id": "UfniLbvYiGB-"
      }
    },
    {
      "cell_type": "code",
      "execution_count": null,
      "metadata": {
        "id": "rR4cG_kBNzXK"
      },
      "outputs": [],
      "source": [
        "!sudo apt -qq install imagemagick\n",
        "!pip install ConfigArgParse -qqq\n",
        "!pip install imageio-ffmpeg -qqq"
      ]
    },
    {
      "cell_type": "markdown",
      "source": [
        "### 저장소"
      ],
      "metadata": {
        "id": "c4GZliRBiMRz"
      }
    },
    {
      "cell_type": "code",
      "source": [
        "!git clone https://github.com/ProtossDragoon/nerf-wandb.git"
      ],
      "metadata": {
        "id": "UCOpGC4PUeG-"
      },
      "execution_count": null,
      "outputs": []
    },
    {
      "cell_type": "code",
      "source": [
        "%cd nerf-wandb\n",
        "#!git checkout dev # 개발 중\n",
        "!ls -al"
      ],
      "metadata": {
        "id": "zCNErlnlU5Kp"
      },
      "execution_count": null,
      "outputs": []
    },
    {
      "cell_type": "markdown",
      "source": [
        "**wandb**\n",
        "\n",
        "- 실험 관리 도구로 wandb 를 사용합니다.\n",
        "- [plank-hyundong](https://wandb.ai/plank-hyundong) 팀의 [wandb 프로젝트 plank-hyundong](https://wandb.ai/plank-hyundong/plank-hyundong) 관리자에게 접근 키를 문의하세요."
      ],
      "metadata": {
        "id": "iXI9GS5UqMo4"
      }
    },
    {
      "cell_type": "code",
      "source": [
        "!pip install wandb -qqq"
      ],
      "metadata": {
        "id": "fi9pb9smHwt0"
      },
      "execution_count": null,
      "outputs": []
    },
    {
      "cell_type": "code",
      "source": [
        "# Log in to your W&B account    \n",
        "import wandb\n",
        "wandb.login()"
      ],
      "metadata": {
        "id": "XTDqG14CMEod"
      },
      "execution_count": null,
      "outputs": []
    },
    {
      "cell_type": "markdown",
      "source": [
        "## 커스텀 데이터로 실행\n",
        "\n",
        "- LLFF 를 통해 얻은 pose 가 필요합니다."
      ],
      "metadata": {
        "id": "rZ4Avx7jhSB1"
      }
    },
    {
      "cell_type": "markdown",
      "source": [
        "### 환경"
      ],
      "metadata": {
        "id": "KgvNCcbtilPF"
      }
    },
    {
      "cell_type": "code",
      "source": [
        "from google.colab import drive\n",
        "drive.mount('/content/drive/', force_remount=True)"
      ],
      "metadata": {
        "id": "YE0JwAeFbm_n"
      },
      "execution_count": null,
      "outputs": []
    },
    {
      "cell_type": "code",
      "source": [
        "from datetime import datetime\n",
        "now = datetime.now().strftime('%y%m%d_%H%M%S')\n",
        "\n",
        "dataset_name = 'guardpillar' #@param ['toilet', 'napkin', 'woodtable', 'steeltable', 'bluemotorcycle360', 'bluemotorcycleff', 'guardpillar', 'hyundong360', 'hyundongff', 'beam', 'scooter360', 'scooterff']\n",
        "downsample_factor = 4 #@param {type:\"slider\", min:2, max:64, step:2}\n",
        "netdepth = 7 #@param {type:\"slider\", min:4, max:8, step:1}\n",
        "netwidth = 200 #@param {type:\"slider\", min:64, max:256, step:4}\n",
        "n_rays = 65536 #@param {type:\"slider\", min:1024, max:131072, step:1024}\n",
        "n_pts = 131072 #@param {type:\"slider\", min:2048, max:262144, step:1024}\n",
        "experiment_name = f'{dataset_name}_{downsample_factor}_downsampled_{now}'\n",
        "max_iter = 1000 #@param\n",
        "learning_rate = 0.0001 #@param\n",
        "video_saving_cnt = 10 #@param {type:\"slider\", min:1, max:10, step:1}"
      ],
      "metadata": {
        "id": "liKXJaPw0eES"
      },
      "execution_count": null,
      "outputs": []
    },
    {
      "cell_type": "code",
      "source": [
        "_dummy_dir = f'./logs/{experiment_name}'\n",
        "_tensorboard_logdir = f'./logs/summaries/{experiment_name}'\n",
        "print(f'experiment: {experiment_name}')"
      ],
      "metadata": {
        "id": "4Ae49KH3q9z1"
      },
      "execution_count": null,
      "outputs": []
    },
    {
      "cell_type": "markdown",
      "source": [
        "### 실행\n",
        "\n",
        "**플래그 해석**\n",
        "\n",
        "- no_ndc flag: do not use normalized device coordinates\n",
        "- spherify: set for spherical 360 scenes\n",
        "- lindisp: sampling linearly in disparity rather than depth"
      ],
      "metadata": {
        "id": "B92V4lDPhU4B"
      }
    },
    {
      "cell_type": "code",
      "source": [
        "!python run_nerf.py \\\n",
        "    --wandbproject {'plank-hyundong'} \\\n",
        "    --wandbentity {'plank-hyundong'} \\\n",
        "    --maxiter {max_iter} \\\n",
        "    --datadir /content/drive/MyDrive/dev/llff_data/{dataset_name} \\\n",
        "    --dataset_type llff \\\n",
        "    --factor {downsample_factor} \\\n",
        "    --netdepth {netdepth}\\\n",
        "    --netwidth {netwidth} \\\n",
        "    --netdepth_fine {netdepth} \\\n",
        "    --netwidth_fine {netwidth} \\\n",
        "    --chunk {n_rays} \\\n",
        "    --netchunk {n_pts} \\\n",
        "    --lrate {learning_rate} \\\n",
        "    --i_video {max_iter // video_saving_cnt - 1} \\\n",
        "    --expname {experiment_name} \\\n",
        "#    --no_ndc \\\n",
        "#    --spherify \\\n",
        "#    --lindisp \\"
      ],
      "metadata": {
        "id": "g7GcdCbN8f5R"
      },
      "execution_count": null,
      "outputs": []
    },
    {
      "cell_type": "code",
      "source": [
        ""
      ],
      "metadata": {
        "id": "O_ApYgTk3xiV"
      },
      "execution_count": null,
      "outputs": []
    }
  ]
}