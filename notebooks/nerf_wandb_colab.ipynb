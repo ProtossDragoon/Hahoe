{
  "nbformat": 4,
  "nbformat_minor": 0,
  "metadata": {
    "colab": {
      "name": "nerf_wandb_colab.ipynb",
      "private_outputs": true,
      "provenance": [],
      "collapsed_sections": [],
      "machine_shape": "hm",
      "toc_visible": true
    },
    "kernelspec": {
      "name": "python3",
      "display_name": "Python 3"
    },
    "language_info": {
      "name": "python"
    },
    "accelerator": "GPU",
    "gpuClass": "standard"
  },
  "cells": [
    {
      "cell_type": "markdown",
      "source": [
        "# NeRF-WandB-COLAB\n",
        "\n",
        "### [NeRF 공식 저장소](https://github.com/bmild/nerf)를 수정하여 [wandb 연동이 편리하도록 만든 저장소](https://github.com/ProtossDragoon/nerf-wandb.git)의 소스코드를 이용해 커스텀 데이터셋에 NeRF 모델 학습\n",
        "\n",
        "Plank-ing Hyundong 3D Reconstruction Project\n",
        "Created 2022.07.12 <br>\n",
        "\n",
        "**NoteBook Author** <br>\n",
        "[Janghoo Lee](https://www.linkedin.com/in/janghoo-lee-25212a1a0) <br>\n",
        "🎓 : [ProtossDragoon](https://github.com/ProtossDragoon) <br>\n",
        "📧 : dlwkdgn3@gmail.com <br>\n",
        "\n",
        "🤔 If you have any questions, please raise an issue in our [github repo](https://github.com/ProtossDragoon/PlankHyundong)."
      ],
      "metadata": {
        "id": "MVL5k-A-3IM-"
      }
    },
    {
      "cell_type": "markdown",
      "source": [
        "## 환경"
      ],
      "metadata": {
        "id": "x1eP2p5xiHZC"
      }
    },
    {
      "cell_type": "markdown",
      "source": [
        "### GPU 확인"
      ],
      "metadata": {
        "id": "aqzSoc2sc0Xw"
      }
    },
    {
      "cell_type": "code",
      "source": [
        "gpu_info = !nvidia-smi\n",
        "gpu_info = '\\n'.join(gpu_info)\n",
        "if gpu_info.find('failed') >= 0:\n",
        "    print('Not connected to a GPU')\n",
        "else:\n",
        "    print(gpu_info)"
      ],
      "metadata": {
        "id": "IKY7DknIczR1"
      },
      "execution_count": null,
      "outputs": []
    },
    {
      "cell_type": "markdown",
      "source": [
        "### TF 런타임 변경"
      ],
      "metadata": {
        "id": "_rCeqkOXiIxP"
      }
    },
    {
      "cell_type": "code",
      "source": [
        "try:\n",
        "    %tensorflow_version 1.x\n",
        "except ValueError:\n",
        "    # 만약 %tensorflow_version 1.x magic 명령어가 작동하지 않는 경우\n",
        "    !pip uninstall --yes tensorflow\n",
        "    !pip install tensorflow==1.15\n",
        "    import tensorflow\n",
        "    print(tensorflow.__version__)"
      ],
      "metadata": {
        "id": "v5ICatu2VHRh"
      },
      "execution_count": null,
      "outputs": []
    },
    {
      "cell_type": "markdown",
      "source": [
        "### 의존 패키지 설치"
      ],
      "metadata": {
        "id": "UfniLbvYiGB-"
      }
    },
    {
      "cell_type": "code",
      "execution_count": null,
      "metadata": {
        "id": "rR4cG_kBNzXK"
      },
      "outputs": [],
      "source": [
        "!sudo apt -qq install imagemagick\n",
        "!pip install ConfigArgParse -qqq\n",
        "!pip install imageio-ffmpeg -qqq"
      ]
    },
    {
      "cell_type": "markdown",
      "source": [
        "### NeRF 소스코드 다운로드"
      ],
      "metadata": {
        "id": "c4GZliRBiMRz"
      }
    },
    {
      "cell_type": "code",
      "source": [
        "!git clone https://github.com/ProtossDragoon/nerf-wandb.git"
      ],
      "metadata": {
        "id": "UCOpGC4PUeG-"
      },
      "execution_count": null,
      "outputs": []
    },
    {
      "cell_type": "code",
      "source": [
        "%cd nerf-wandb\n",
        "#!git checkout dev # 개발 중\n",
        "!ls -al"
      ],
      "metadata": {
        "id": "zCNErlnlU5Kp"
      },
      "execution_count": null,
      "outputs": []
    },
    {
      "cell_type": "markdown",
      "source": [
        "### Weight and Bias 설치\n",
        "\n",
        "- 실험 관리 도구로 wandb 를 사용합니다.\n",
        "- 개인 wandb 프로젝트가 아닌, [plank-hyundong](https://wandb.ai/plank-hyundong) 팀의 [wandb 프로젝트 plank-hyundong](https://wandb.ai/plank-hyundong/plank-hyundong) 저장소를 사용하려면 관리자(dlwkdgn1@naver.com)에게 접근 키를 문의하세요.\n",
        "- 개인 저장소를 사용하려면 `wandb.login()` 셀을 실행할 때 개인 계정으로 로그인하고, `python run_nerf.py` 셀을 실행할 때 파라미터 중 `--wandbproject` 와 `--wandbentity` 값을 변경하면 됩니다. "
      ],
      "metadata": {
        "id": "iXI9GS5UqMo4"
      }
    },
    {
      "cell_type": "code",
      "source": [
        "!pip install wandb -qqq"
      ],
      "metadata": {
        "id": "fi9pb9smHwt0"
      },
      "execution_count": null,
      "outputs": []
    },
    {
      "cell_type": "code",
      "source": [
        "# Log in to your W&B account    \n",
        "import wandb\n",
        "wandb.login()"
      ],
      "metadata": {
        "id": "XTDqG14CMEod"
      },
      "execution_count": null,
      "outputs": []
    },
    {
      "cell_type": "markdown",
      "source": [
        "## 커스텀 데이터로 실행\n",
        "\n",
        "- LLFF 를 통해 얻은 pose 가 필요합니다.\n",
        "- LLFF 을 실행하려면 [Plankhyundong 저장소](https://github.com/ProtossDragoon/PlankHyundong)의 [colmap_colab 노트북](https://github.com/ProtossDragoon/PlankHyundong/blob/main/notebooks/colmap_colab.ipynb)을 참고하세요."
      ],
      "metadata": {
        "id": "rZ4Avx7jhSB1"
      }
    },
    {
      "cell_type": "markdown",
      "source": [
        "### 구글 드라이브 연결"
      ],
      "metadata": {
        "id": "KgvNCcbtilPF"
      }
    },
    {
      "cell_type": "code",
      "source": [
        "from google.colab import drive\n",
        "drive.mount('/content/drive/', force_remount=True)"
      ],
      "metadata": {
        "id": "YE0JwAeFbm_n"
      },
      "execution_count": null,
      "outputs": []
    },
    {
      "cell_type": "markdown",
      "source": [
        "### 파라미터 설정"
      ],
      "metadata": {
        "id": "dveNzsG2fqMp"
      }
    },
    {
      "cell_type": "code",
      "source": [
        "from datetime import datetime\n",
        "now = datetime.now().strftime('%y%m%d_%H%M%S')\n",
        "\n",
        "dataset_name = 'hyundong360_100' #@param ['hyundong360_50', 'hyundong360_100', 'hyundong360_200', 'hyundong360_400', 'noparking360_100', 'noparking360_200', 'noparking360_400', 'noparking720_100', 'noparking720_200', 'noparking720_400', 'hyundong360_100_cleanup', 'hyundong360_100_background']\n",
        "downsample_factor = 4 #@param {type:\"slider\", min:1, max:64, step:1}\n",
        "netdepth = 6 #@param {type:\"slider\", min:4, max:16, step:2}\n",
        "netwidth = 96 #@param {type:\"slider\", min:64, max:256, step:4}\n",
        "experiment_name = f'{dataset_name}_{downsample_factor}_downsampled_{now}'\n",
        "max_iter = 30000 #@param\n",
        "learning_rate = 0.001 #@param\n",
        "video_saving_cnt = 3 #@param {type:\"slider\", min:1, max:10, step:1}\n",
        "n_samples = 128 #@param {type:\"slider\", min:32, max:256, step:32}\n",
        "\n",
        "# fine 모델에서 사용되는 샘플 개수는 coarse 모델의 sampling 개수의 2배로 설정한다.\n",
        "# 공식 논문에서 제안하는 대로, 64이면 128.\n",
        "n_importance = n_samples * 2\n",
        "\n",
        "# Reproduce 를 위해 고정 random_seed 를 사용\n",
        "random_seed = 777 #@param\n",
        "\n",
        "# tradeoff: memory <-> speed (training 에는 속도와 성능 모두에 영향을 미치지 않음. 학습 도중 동영상을 만들 때 OOM 이 난다면 충분히 낮출 것)\n",
        "rendering_speed = 2048 #@param {type:\"slider\", min:1024, max:16384, step:1024}\n",
        "\n",
        "# tradeoff: memory <-> result\n",
        "n_points_per_ray = 65536 #@param {type:\"slider\", min:2048, max:262144, step:1024}\n",
        "\n",
        "_dummy_dir = f'./logs/{experiment_name}'\n",
        "_tensorboard_logdir = f'./logs/summaries/{experiment_name}'\n",
        "print(f'experiment: {experiment_name}')"
      ],
      "metadata": {
        "id": "liKXJaPw0eES"
      },
      "execution_count": null,
      "outputs": []
    },
    {
      "cell_type": "markdown",
      "source": [
        "### 학습 시작\n",
        "\n",
        "- 360도에 걸쳐 촬영한 데이터의 경우, `--no_ndc`, `--spherify`, `--lindisp` 를 추가하세요."
      ],
      "metadata": {
        "id": "B92V4lDPhU4B"
      }
    },
    {
      "cell_type": "code",
      "source": [
        "!python run_nerf.py \\\n",
        "    --wandbproject {'plank-hyundong'} \\\n",
        "    --wandbentity {'plank-hyundong'} \\\n",
        "    --maxiter {max_iter} \\\n",
        "    --datadir /content/drive/MyDrive/dev/llff_data/{dataset_name} \\\n",
        "    --dataset_type llff \\\n",
        "    --factor {downsample_factor} \\\n",
        "    --netdepth {netdepth} \\\n",
        "    --netwidth {netwidth} \\\n",
        "    --netdepth_fine {netdepth} \\\n",
        "    --netwidth_fine {netwidth} \\\n",
        "    --chunk {rendering_speed} \\\n",
        "    --netchunk {n_points_per_ray} \\\n",
        "    --lrate {learning_rate} \\\n",
        "    --i_video {max_iter // video_saving_cnt} \\\n",
        "    --expname {experiment_name} \\\n",
        "    --N_samples {n_samples} \\\n",
        "    --N_importance {n_importance} \\\n",
        "    --random_seed {random_seed} \\\n",
        "    --raw_noise_std 1.0 \\\n",
        "    --use_viewdirs \\\n",
        "    --no_ndc \\\n",
        "    --spherify \\\n",
        "    --lindisp \\"
      ],
      "metadata": {
        "id": "72ae68SS_nWI"
      },
      "execution_count": null,
      "outputs": []
    },
    {
      "cell_type": "code",
      "source": [
        ""
      ],
      "metadata": {
        "id": "K2ehu-3k8reD"
      },
      "execution_count": null,
      "outputs": []
    }
  ]
}