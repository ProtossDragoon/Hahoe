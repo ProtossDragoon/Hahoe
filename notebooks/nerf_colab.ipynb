{
  "cells": [
    {
      "cell_type": "markdown",
      "metadata": {
        "id": "MVL5k-A-3IM-"
      },
      "source": [
        "# NeRF-COLAB\n",
        "\n",
        "### [NeRF 공식 저장소](https://github.com/bmild/nerf)의 데모 실행 및 커스텀 데이터셋에 NeRF 모델 학습\n",
        "\n",
        "Plank-ing Hyundong 3D Reconstruction Project\n",
        "Created 2022.07.05 <br>\n",
        "\n",
        "**NoteBook Author** <br>\n",
        "[Janghoo Lee](https://www.linkedin.com/in/janghoo-lee-25212a1a0) <br>\n",
        "🎓 : [ProtossDragoon](https://github.com/ProtossDragoon) <br>\n",
        "📧 : dlwkdgn3@gmail.com <br>\n",
        "\n",
        "🤔 If you have any questions, please raise an issue in our [github repo](https://github.com/ProtossDragoon/PlankHyundong)."
      ]
    },
    {
      "cell_type": "markdown",
      "metadata": {
        "id": "x1eP2p5xiHZC"
      },
      "source": [
        "## 환경"
      ]
    },
    {
      "cell_type": "markdown",
      "metadata": {
        "id": "_rCeqkOXiIxP"
      },
      "source": [
        "### TF 런타임 변경"
      ]
    },
    {
      "cell_type": "code",
      "execution_count": null,
      "metadata": {
        "id": "v5ICatu2VHRh"
      },
      "outputs": [],
      "source": [
        "%tensorflow_version 1.x"
      ]
    },
    {
      "cell_type": "markdown",
      "metadata": {
        "id": "UfniLbvYiGB-"
      },
      "source": [
        "### 의존 패키지 설치"
      ]
    },
    {
      "cell_type": "code",
      "execution_count": null,
      "metadata": {
        "id": "rR4cG_kBNzXK"
      },
      "outputs": [],
      "source": [
        "!apt-get update\n",
        "!sudo apt -qq install imagemagick\n",
        "!pip install ConfigArgParse -qqq\n",
        "!pip install imageio-ffmpeg -qqq"
      ]
    },
    {
      "cell_type": "markdown",
      "metadata": {
        "id": "c4GZliRBiMRz"
      },
      "source": [
        "### 공식 저장소"
      ]
    },
    {
      "cell_type": "code",
      "execution_count": null,
      "metadata": {
        "id": "UCOpGC4PUeG-"
      },
      "outputs": [],
      "source": [
        "!git clone https://github.com/bmild/nerf.git"
      ]
    },
    {
      "cell_type": "code",
      "execution_count": null,
      "metadata": {
        "id": "zCNErlnlU5Kp"
      },
      "outputs": [],
      "source": [
        "%cd nerf\n",
        "!ls -al"
      ]
    },
    {
      "cell_type": "markdown",
      "metadata": {
        "id": "qGHSSF5I4SD-"
      },
      "source": [
        "## 텐서보드"
      ]
    },
    {
      "cell_type": "code",
      "execution_count": null,
      "metadata": {
        "id": "eddtGnde0jrY"
      },
      "outputs": [],
      "source": [
        "%load_ext tensorboard"
      ]
    },
    {
      "cell_type": "markdown",
      "metadata": {
        "id": "yUUP6Spv1jjA"
      },
      "source": [
        "**텐서보드 해석**\n",
        "\n",
        "output 함수의 리턴값 [\b참고1](https://github.com/bmild/nerf/blob/18b8aebda6700ed659cb27a0c348b737a5f6ab60/run_nerf.py#L284-L287), [참고2](https://github.com/bmild/nerf/blob/18b8aebda6700ed659cb27a0c348b737a5f6ab60/run_nerf.py#L81-L89)을 먼저 해석해 보자.\n",
        "- rgb_map: [batch_size, 3]. Predicted RGB values for rays.\n",
        "- disp_map: [batch_size]. Disparity map. Inverse of depth.\n",
        "- acc_map: [batch_size]. Accumulated opacity (alpha) along a ray. (Ray 위의 모든 지점의 투명도값들을 전부 더한 결과. Transmittance 라고 볼 수도 있음. 뭐 어쨌든, 값이 높을수록(float 표현의 경우 1에 가까울수록) 투명하지 않은 것임)\n",
        "- extras: dict with everything returned by render_rays().\n",
        "\n",
        "**Coarse, Fine**: NeRF 논문을 보면 알겠지만, Coarse 모드로 한번 학습을 시킨 다음에 Fine 모드로 한번 학습을 다시 시키는 구조로 이루어져 있다. 자세한 내용은 논문을 참조.\n",
        "\n",
        "TensorBoard IMAGES 탭을 보자\n",
        "- rgb: Coarse 모드의 rgb_map 에 대응됨\n",
        "- disp: Coarse 모드의 disp_map 에 대응됨\n",
        "- acc: Coarse 모드의 acc_map 에 대응됨\n",
        "- rgb0: \bFine 모드의 rgb_map 에 대응됨\n",
        "- disp0: \bFine 모드의 disp_map 에 대응됨\n",
        "- acc0: \bFine 모드의 acc_map 에 대응됨\n",
        "- rgb_holdout: rgb_map 이 생성해야 하는 영상의 정답값임\n",
        "- z_std: [num_rays]. Standard deviation of distances along ray for each sample."
      ]
    },
    {
      "cell_type": "code",
      "execution_count": null,
      "metadata": {
        "id": "YMP4VMEj0m8i"
      },
      "outputs": [],
      "source": [
        "%tensorboard --logdir ./logs"
      ]
    },
    {
      "cell_type": "markdown",
      "metadata": {
        "id": "iIjFUCX4iSrV"
      },
      "source": [
        "## 빠른 데모 실행"
      ]
    },
    {
      "cell_type": "markdown",
      "metadata": {
        "id": "mEb1JkGciUcN"
      },
      "source": [
        "### 샘플 데이터 다운로드"
      ]
    },
    {
      "cell_type": "code",
      "execution_count": null,
      "metadata": {
        "id": "LlJCIPNTU62D"
      },
      "outputs": [],
      "source": [
        "!bash download_example_data.sh"
      ]
    },
    {
      "cell_type": "markdown",
      "metadata": {
        "id": "kZ5NICZJiWLa"
      },
      "source": [
        "### 샘플 데이터로 NeRF 실행"
      ]
    },
    {
      "cell_type": "code",
      "execution_count": null,
      "metadata": {
        "id": "aPez2PT_U9iX"
      },
      "outputs": [],
      "source": [
        "!python run_nerf.py --config config_fern.txt"
      ]
    },
    {
      "cell_type": "code",
      "execution_count": null,
      "metadata": {
        "id": "jKOKveA2VYTw"
      },
      "outputs": [],
      "source": [
        "!python run_nerf.py --config config_lego.txt"
      ]
    },
    {
      "cell_type": "markdown",
      "metadata": {
        "id": "rZ4Avx7jhSB1"
      },
      "source": [
        "## 커스텀 데이터로 실행\n",
        "\n",
        "- LLFF 를 통해 얻은 pose 가 필요합니다."
      ]
    },
    {
      "cell_type": "markdown",
      "metadata": {
        "id": "KgvNCcbtilPF"
      },
      "source": [
        "### 환경"
      ]
    },
    {
      "cell_type": "code",
      "execution_count": null,
      "metadata": {
        "id": "YE0JwAeFbm_n"
      },
      "outputs": [],
      "source": [
        "from google.colab import drive\n",
        "drive.mount('/content/drive/', force_remount=True)"
      ]
    },
    {
      "cell_type": "code",
      "execution_count": null,
      "metadata": {
        "id": "liKXJaPw0eES"
      },
      "outputs": [],
      "source": [
        "from datetime import datetime\n",
        "now = datetime.now().strftime('%y%m%d_%H%M%S')\n",
        "\n",
        "dataset_name = 'steeltable' #@param ['toilet', 'napkin', 'woodtable', 'steeltable']\n",
        "downsample_factor = 32 #@param {type:\"slider\", min:8, max:64, step:8}\n",
        "netdepth = 4 #@param {type:\"slider\", min:4, max:8, step:1}\n",
        "netwidth = 64 #@param {type:\"slider\", min:64, max:256, step:4}\n",
        "n_rays = 131072 #@param {type:\"slider\", min:1024, max:131072, step:32}\n",
        "n_pts = 262144 #@param {type:\"slider\", min:2048, max:262144, step:64}\n",
        "experiment_name = f'{dataset_name}_{downsample_factor}_downsampled_{now}'\n",
        "lr = 1e-4\n",
        "\n",
        "_dummy_dir = f'./logs/{experiment_name}'\n",
        "_tensorboard_logdir = f'./logs/summaries/{experiment_name}'\n",
        "# !rm -r {_dummy_dir}\n",
        "# !rm -r {_tensorboard_logdir}\n",
        "print(f'experiment: {experiment_name}')"
      ]
    },
    {
      "cell_type": "markdown",
      "metadata": {
        "id": "B92V4lDPhU4B"
      },
      "source": [
        "### 실행\n",
        "\n",
        "**플래그 해석**\n",
        "\n",
        "- no_ndc flag: do not use normalized device coordinates\n",
        "- spherify: set for spherical 360 scenes\n",
        "- lindisp: sampling linearly in disparity rather than depth\n",
        "\n",
        "\n",
        "**실행하기 전에**\n",
        "\n",
        "- `nerf/run_nerf.py` 의 [746번째 줄](https://github.com/bmild/nerf/blob/18b8aebda6700ed659cb27a0c348b737a5f6ab60/run_nerf.py#L746)에 있는 `N_iters = 1000000` 을 변경해 주어야 합니다. COLAB PRO+ 런타임이 아닌 경우, 런타임이 학습이 마칠 때까지 기다려주지 못하기 때문입니다. 필자는 COLAB PRO GPU 에서 2~4시간정도면 학습이 종료되는 100,000 정도를 추천합니다."
      ]
    },
    {
      "cell_type": "code",
      "execution_count": null,
      "metadata": {
        "id": "g7GcdCbN8f5R"
      },
      "outputs": [],
      "source": [
        "!python run_nerf.py \\\n",
        "    --datadir /content/drive/MyDrive/dev/llff_data/{dataset_name} \\\n",
        "    --dataset_type llff \\\n",
        "    --factor {downsample_factor} \\\n",
        "    --netdepth {netdepth}\\\n",
        "    --netwidth {netwidth} \\\n",
        "    --netdepth_fine {netdepth} \\\n",
        "    --netwidth_fine {netwidth} \\\n",
        "    --chunk {n_rays} \\\n",
        "    --netchunk {n_pts} \\\n",
        "    --lrate {lr} \\\n",
        "    --expname {experiment_name}\n",
        "# --no_ndc\n",
        "# --spherify\n",
        "# --lindisp"
      ]
    },
    {
      "cell_type": "markdown",
      "metadata": {
        "id": "0jUbcWcVHxLX"
      },
      "source": [
        "## 실험 관리 도구\n",
        "\n",
        "- 실험 관리 도구로 wandb 를 사용합니다.\n",
        "- [plank-hyundong](https://wandb.ai/plank-hyundong) 팀의 [wandb 프로젝트 plank-hyundong](https://wandb.ai/plank-hyundong/plank-hyundong) 관리자에게 접근 키를 문의하세요."
      ]
    },
    {
      "cell_type": "code",
      "execution_count": null,
      "metadata": {
        "id": "fi9pb9smHwt0"
      },
      "outputs": [],
      "source": [
        "!pip install wandb -qqq"
      ]
    },
    {
      "cell_type": "code",
      "execution_count": null,
      "metadata": {
        "id": "l4bWc9dEe0Z2"
      },
      "outputs": [],
      "source": [
        "#!wandb login --relogin"
      ]
    },
    {
      "cell_type": "code",
      "execution_count": null,
      "metadata": {
        "id": "XTDqG14CMEod"
      },
      "outputs": [],
      "source": [
        "# Log in to your W&B account\n",
        "import wandb\n",
        "wandb.login()"
      ]
    },
    {
      "cell_type": "code",
      "execution_count": null,
      "metadata": {
        "id": "03eTdzM4GFRp"
      },
      "outputs": [],
      "source": [
        "# Start a new run to track this script\n",
        "wandb.init(\n",
        "    # Set the project where this run will be logged\n",
        "    project=\"plank-hyundong\",\n",
        "    entity=\"plank-hyundong\",\n",
        "    # We pass a run name (otherwise it’ll be randomly assigned, like sunshine-lollypop-10)\n",
        "    name=f'{experiment_name}'\n",
        ")"
      ]
    },
    {
      "cell_type": "code",
      "execution_count": null,
      "metadata": {
        "id": "yK_6qAUkVpuZ"
      },
      "outputs": [],
      "source": [
        "import os\n",
        "import pprint\n",
        "import glob\n",
        "import pathlib\n",
        "\n",
        "p = os.path.join(_dummy_dir, 'args.txt')\n",
        "config = {}\n",
        "with open(p, 'r') as f:\n",
        "    for line in f.readlines():\n",
        "        # 공백을 제거하고 = 을 기준으로 키와 값으로 분리\n",
        "        k, v = line.replace(' ', '').replace('\\n', '').split('=')\n",
        "        # 딕셔너리 형태로 저장\n",
        "        config[k] = v\n",
        "    pprint.pprint(config)\n",
        "\n",
        "# Track hyperparameters and run metadata\n",
        "wandb.config.update(config)"
      ]
    },
    {
      "cell_type": "code",
      "execution_count": null,
      "metadata": {
        "id": "xkwHQmIGcaym"
      },
      "outputs": [],
      "source": [
        "result_video_pattern = os.path.join(_dummy_dir, f'{experiment_name}_*.mp4')\n",
        "print(result_video_pattern)\n",
        "paths = glob.glob(result_video_pattern)\n",
        "pprint.pprint(paths)\n",
        "\n",
        "for path in paths:\n",
        "    # filename: {experiment_name}_spiral_{step}_{channel}.mp4\n",
        "    _, step_channel = path.rstrip('.mp4').split('spiral_')\n",
        "    step, channel = step_channel.split('_')\n",
        "    wandb.log({\n",
        "        f'video_{channel}':wandb.Video(path, fps=15, format=\"mp4\"),\n",
        "    }, step=int(step))"
      ]
    },
    {
      "cell_type": "code",
      "execution_count": null,
      "metadata": {
        "id": "RLBgvTZ8vojQ"
      },
      "outputs": [],
      "source": [
        "val_image_pattern = os.path.join(_dummy_dir, 'tboard_val_imgs', '*')\n",
        "print(val_image_pattern)\n",
        "paths = glob.glob(val_image_pattern)\n",
        "pprint.pprint(paths)\n",
        "\n",
        "for path in paths:\n",
        "    # filename: {step}.png\n",
        "    step = os.path.basename(path).rstrip('.png')\n",
        "    wandb.log({\n",
        "        f'image_val':wandb.Image(path),\n",
        "    }, step=int(step))"
      ]
    },
    {
      "cell_type": "code",
      "execution_count": null,
      "metadata": {
        "id": "wvydns_hx9E_"
      },
      "outputs": [],
      "source": [
        "test_image_pattern = os.path.join(_dummy_dir, 'testset_*')\n",
        "print(test_image_pattern)\n",
        "paths = glob.glob(test_image_pattern)\n",
        "pprint.pprint(paths)\n",
        "\n",
        "for path in paths:\n",
        "    # foldername: testset_{step}\n",
        "    _, step = pathlib.PurePath(path).name.split('_')\n",
        "    for (dir_path, dir_names, img_names) in os.walk(path):\n",
        "        for img_name in img_names:\n",
        "            wandb.log({\n",
        "                f'image_test_{img_name}': wandb.Image(os.path.join(dir_path, img_name)),\n",
        "            }, step=int(step))"
      ]
    }
  ],
  "metadata": {
    "accelerator": "GPU",
    "colab": {
      "collapsed_sections": [],
      "name": "nerf_colab.ipynb",
      "private_outputs": true,
      "provenance": []
    },
    "gpuClass": "standard",
    "kernelspec": {
      "display_name": "Python 3.9.1 64-bit",
      "language": "python",
      "name": "python3"
    },
    "language_info": {
      "name": "python",
      "version": "3.9.1"
    },
    "vscode": {
      "interpreter": {
        "hash": "aee8b7b246df8f9039afb4144a1f6fd8d2ca17a180786b69acc140d282b71a49"
      }
    }
  },
  "nbformat": 4,
  "nbformat_minor": 0
}
