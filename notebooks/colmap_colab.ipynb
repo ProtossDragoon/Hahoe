{
  "cells": [
    {
      "cell_type": "markdown",
      "metadata": {
        "id": "WilLI1qIsjc0"
      },
      "source": [
        "# COLMAP-COLAB\n",
        "\n",
        "### COLMAP 설치와 LLFF 스크립트 실행을 통한 카메라 포즈 획득\n",
        "\n",
        "Plank-ing Hyundong 3D Reconstruction Project\n",
        "Created 2022.07.05 <br>\n",
        "\n",
        "**NoteBook Author** <br>\n",
        "[Janghoo Lee](https://www.linkedin.com/in/janghoo-lee-25212a1a0) <br>\n",
        "🎓 : [ProtossDragoon](https://github.com/ProtossDragoon) <br>\n",
        "📧 : dlwkdgn3@gmail.com <br>\n",
        "\n",
        "🤔 If you have any questions, please raise an issue in our [github repo](https://github.com/ProtossDragoon/PlankHyundong)."
      ]
    },
    {
      "cell_type": "markdown",
      "metadata": {
        "id": "AIvIQrGasqvf"
      },
      "source": [
        "## 환경"
      ]
    },
    {
      "cell_type": "markdown",
      "metadata": {
        "id": "SpaQWAQg1VtD"
      },
      "source": [
        "### 의존 패키지 설치"
      ]
    },
    {
      "cell_type": "code",
      "execution_count": null,
      "metadata": {
        "id": "eGdRYPFIzvFs"
      },
      "outputs": [],
      "source": [
        "!sudo apt-get install \\\n",
        "    git \\\n",
        "    cmake \\\n",
        "    build-essential \\\n",
        "    libboost-program-options-dev \\\n",
        "    libboost-filesystem-dev \\\n",
        "    libboost-graph-dev \\\n",
        "    libboost-regex-dev \\\n",
        "    libboost-system-dev \\\n",
        "    libboost-test-dev \\\n",
        "    libeigen3-dev \\\n",
        "    libsuitesparse-dev \\\n",
        "    libfreeimage-dev \\\n",
        "    libgoogle-glog-dev \\\n",
        "    libgflags-dev \\\n",
        "    libglew-dev \\\n",
        "    qtbase5-dev \\\n",
        "    libqt5opengl5-dev \\\n",
        "    libcgal-dev \\\n",
        "    libcgal-qt5-dev"
      ]
    },
    {
      "cell_type": "markdown",
      "metadata": {
        "id": "yptHICvs1evY"
      },
      "source": [
        "### Ceres-solver 설치\n",
        "\n",
        "- takes 10~20 minutes..."
      ]
    },
    {
      "cell_type": "code",
      "execution_count": null,
      "metadata": {
        "id": "gAwEYpOk0Irw"
      },
      "outputs": [],
      "source": [
        "!sudo apt-get install libatlas-base-dev libsuitesparse-dev\n",
        "!git clone https://ceres-solver.googlesource.com/ceres-solver\n",
        "%cd ceres-solver\n",
        "!git checkout $(git describe --tags) # Checkout the latest release\n",
        "%mkdir build\n",
        "%cd build\n",
        "!cmake .. -DBUILD_TESTING=OFF -DBUILD_EXAMPLES=OFF\n",
        "!make\n",
        "!sudo make install"
      ]
    },
    {
      "cell_type": "markdown",
      "metadata": {
        "id": "lmePvOPY3dof"
      },
      "source": [
        "### COLMAP 설치\n",
        "\n",
        "- takes another 10~20 minutes..."
      ]
    },
    {
      "cell_type": "code",
      "execution_count": null,
      "metadata": {
        "id": "Mlni4A0dFh-g"
      },
      "outputs": [],
      "source": [
        "!sudo apt-get install libmetis-dev # https://github.com/colmap/colmap/issues/1469"
      ]
    },
    {
      "cell_type": "code",
      "execution_count": null,
      "metadata": {
        "id": "gKTtduYW3LpH"
      },
      "outputs": [],
      "source": [
        "!git clone https://github.com/colmap/colmap\n",
        "%cd colmap\n",
        "!git checkout dev\n",
        "%mkdir build\n",
        "%cd build\n",
        "!cmake ..\n",
        "!make\n",
        "!sudo make install\n",
        "!CC=/usr/bin/gcc-6 CXX=/usr/bin/g++-6 cmake .."
      ]
    },
    {
      "cell_type": "markdown",
      "metadata": {
        "id": "AH2TnXfE8rCV"
      },
      "source": [
        "Next, we need to prepare the images to run colmap.\n",
        "First, create a folder in your google drive and a subfolder named `images`, and put your images inside."
      ]
    },
    {
      "cell_type": "markdown",
      "metadata": {
        "id": "GqVrYev0313H"
      },
      "source": [
        "## 구글 드라이브에서 작업하기"
      ]
    },
    {
      "cell_type": "code",
      "execution_count": null,
      "metadata": {
        "id": "4rH78spM2Rn-"
      },
      "outputs": [],
      "source": [
        "from google.colab import drive\n",
        "drive.mount('/content/drive/', force_remount=True)"
      ]
    },
    {
      "cell_type": "code",
      "execution_count": 1,
      "metadata": {
        "id": "QTt2JDhV0QQA"
      },
      "outputs": [
        {
          "name": "stdout",
          "output_type": "stream",
          "text": [
            "Cloning into 'LLFF'...\n",
            "remote: Enumerating objects: 774, done.\u001b[K\n",
            "remote: Counting objects: 100% (26/26), done.\u001b[K\n",
            "remote: Compressing objects: 100% (21/21), done.\u001b[K\n",
            "remote: Total 774 (delta 7), reused 20 (delta 5), pack-reused 748\u001b[K\n",
            "Receiving objects: 100% (774/774), 31.94 MiB | 10.33 MiB/s, done.\n",
            "Resolving deltas: 100% (409/409), done.\n"
          ]
        }
      ],
      "source": [
        "%cd /content\n",
        "!git clone https://github.com/Fyusion/LLFF"
      ]
    },
    {
      "cell_type": "markdown",
      "metadata": {
        "id": "Zvxe5vDL7blW"
      },
      "source": [
        "### COLMAP 실행"
      ]
    },
    {
      "cell_type": "markdown",
      "metadata": {
        "id": "a4twgAtgQ8ma"
      },
      "source": [
        "https://drive.google.com/drive/folders/1T5q5iqV6mb_YKsyPQ7R50X2txcUMzFwR?usp=sharing\n",
        "\n",
        "디렉터리 구조는 다음과 같습니다.\n",
        "- content\n",
        "    - LLFF\n",
        "    - drive\n",
        "        - My Drive\n",
        "            - dev\n",
        "                - llff_data\n",
        "                    - toilet\n",
        "                        - images\n",
        "                            - image1.jpg\n",
        "                            - image2.jpg\n",
        "                            - image3.jpg\n",
        "                            - ...\n",
        "                    - napkin\n",
        "                        - images\n",
        "                            - image1.jpg\n",
        "                            - image2.jpg\n",
        "                            - image3.jpg\n",
        "                            - ...\n",
        "                    - ..."
      ]
    },
    {
      "cell_type": "code",
      "execution_count": null,
      "metadata": {
        "id": "d9ryuCQt2hEv"
      },
      "outputs": [],
      "source": [
        "%cd /content/LLFF\n",
        "# change the path below to your data folder (the folder containing the `images` folder)\n",
        "dataset_name = 'scooterff' #@param ['toilet', 'napkin', 'woodtable', 'steeltable', 'bluemotorcycle360', 'bluemotorcycleff', 'guardpillar', 'hyundong360', 'hyundongff', 'beam', 'scooter360', 'scooterff']\n",
        "!python imgs2poses.py /content/drive/MyDrive/dev/llff_data/{dataset_name}"
      ]
    },
    {
      "cell_type": "markdown",
      "metadata": {
        "id": "MLP3_P9q8M9d"
      },
      "source": [
        "After running colmap, you will get a `poses_bounds.npy` file under your data folder, once you got that, you're ready to train!"
      ]
    }
  ],
  "metadata": {
    "colab": {
      "collapsed_sections": [],
      "name": "colmap_colab.ipynb",
      "private_outputs": true,
      "provenance": []
    },
    "gpuClass": "standard",
    "kernelspec": {
      "display_name": "Python 3.9.1 64-bit",
      "language": "python",
      "name": "python3"
    },
    "language_info": {
      "codemirror_mode": {
        "name": "ipython",
        "version": 3
      },
      "file_extension": ".py",
      "mimetype": "text/x-python",
      "name": "python",
      "nbconvert_exporter": "python",
      "pygments_lexer": "ipython3",
      "version": "3.9.1"
    },
    "vscode": {
      "interpreter": {
        "hash": "aee8b7b246df8f9039afb4144a1f6fd8d2ca17a180786b69acc140d282b71a49"
      }
    }
  },
  "nbformat": 4,
  "nbformat_minor": 0
}
