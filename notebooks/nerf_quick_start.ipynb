{
 "cells": [
  {
   "cell_type": "markdown",
   "metadata": {},
   "source": [
    "# NeRF Quick Start Notebook\n",
    "\n",
    "Plank-ing Hyundong 3D Reconstruction Project\n",
    "Created 2022.07.05 <br>\n",
    "\n",
    "There are 4 Steps in this notebook.<br>\n",
    "1. Sampling images from video\n",
    "2. Get camera poses with COLMAP\n",
    "3. Run NeRF\n",
    "4. Get mesh file\n",
    "\n",
    "\n",
    "__You can skip step 1, 2 by revising the directory path at Step 3__"
   ]
  },
  {
   "cell_type": "markdown",
   "metadata": {},
   "source": [
    "## Directory Structure\n",
    "\n",
    "- PlankHyundong\n",
    "    - notebook\n",
    "        - __nerf_quick_start.ipynb__\n",
    "        - nerf_colab.ipynb\n",
    "        - nerf_wandb_colab.ipynb\n",
    "        - colmap_colab.ipynb\n",
    "    - utils\n",
    "    - data\n",
    "        - video\n",
    "            - video.mp4\n",
    "        - base_images\n",
    "            - images\n",
    "                - image1.jpg\n",
    "                - image2.jpg\n",
    "                - ...\n",
    "            - pose.npy\n",
    "        - custom_images\n",
    "            - images\n",
    "            \n",
    "\n",
    "> 'base_images' folder is for who want to skip step 1, 2\n",
    "<br><br>\n",
    "> 'custom_images' folder is for who want to execute from step 1.\n",
    "            "
   ]
  },
  {
   "cell_type": "markdown",
   "metadata": {},
   "source": [
    "--------"
   ]
  },
  {
   "cell_type": "markdown",
   "metadata": {},
   "source": [
    "## Step 1\n",
    "### Video Sampling"
   ]
  },
  {
   "cell_type": "code",
   "execution_count": null,
   "metadata": {},
   "outputs": [],
   "source": [
    "import cv2\n",
    "\n",
    "# Video file path\n",
    "data_path = '/PlankHyundong/data/video/video.mp4'\n",
    "save_path = '/PlankHyundong/data/custom_images'\n",
    "\n",
    "# Set the number of frame\n",
    "frame = 50\n",
    "\n",
    "vidcap = cv2.VideoCapture(dir)\n",
    "                \n",
    "cnt, num = 0, 1 # cnt -> Input frame #, num -> output Frame #.\n",
    "\n",
    "total_length = int(vidcap.get(cv2.CAP_PROP_FRAME_COUNT))\n",
    "cycle = int(total_length / frame) # calculate cycle\n",
    "\n",
    "while vidcap.isOpened():\n",
    "    ret,image = vidcap.read()\n",
    "    if num > frame:\n",
    "        break\n",
    "    if ret and cnt % cycle == 0:  \n",
    "        \n",
    "        try:\n",
    "            cv2.imwrite(f\"{save_path}/image{num}.jpg\", image)\n",
    "            num+=1\n",
    "        except:\n",
    "            print(\"fail\")\n",
    "            \n",
    "    cnt += 1\n",
    "    \n",
    "vidcap.release()\n"
   ]
  },
  {
   "cell_type": "markdown",
   "metadata": {},
   "source": [
    "## "
   ]
  },
  {
   "cell_type": "markdown",
   "metadata": {},
   "source": [
    "## Step 2\n",
    "### Run COLMAP to get camera pose"
   ]
  },
  {
   "cell_type": "markdown",
   "metadata": {},
   "source": [
    "### Install dependent packages"
   ]
  },
  {
   "cell_type": "code",
   "execution_count": null,
   "metadata": {},
   "outputs": [],
   "source": [
    "\n",
    "!sudo apt-get install \\\n",
    "    git \\\n",
    "    cmake \\\n",
    "    build-essential \\\n",
    "    libboost-program-options-dev \\\n",
    "    libboost-filesystem-dev \\\n",
    "    libboost-graph-dev \\\n",
    "    libboost-regex-dev \\\n",
    "    libboost-system-dev \\\n",
    "    libboost-test-dev \\\n",
    "    libeigen3-dev \\\n",
    "    libsuitesparse-dev \\\n",
    "    libfreeimage-dev \\\n",
    "    libgoogle-glog-dev \\\n",
    "    libgflags-dev \\\n",
    "    libglew-dev \\\n",
    "    qtbase5-dev \\\n",
    "    libqt5opengl5-dev \\\n",
    "    libcgal-dev \\\n",
    "    libcgal-qt5-dev"
   ]
  },
  {
   "cell_type": "markdown",
   "metadata": {},
   "source": [
    "### Install Ceres-solver\n",
    "\n",
    "- It takes 10 ~ 20 minutes.."
   ]
  },
  {
   "cell_type": "code",
   "execution_count": null,
   "metadata": {},
   "outputs": [],
   "source": [
    "!sudo apt-get install libatlas-base-dev libsuitesparse-dev\n",
    "!git clone https://ceres-solver.googlesource.com/ceres-solver\n",
    "%cd ceres-solver\n",
    "!git checkout $(git describe --tags) # Checkout the latest release\n",
    "%mkdir build\n",
    "%cd build\n",
    "!cmake .. -DBUILD_TESTING=OFF -DBUILD_EXAMPLES=OFF\n",
    "!make\n",
    "!sudo make install"
   ]
  },
  {
   "cell_type": "markdown",
   "metadata": {},
   "source": [
    "### Install COLMAP\n",
    "- It takes 10 ~ 20 minutes"
   ]
  },
  {
   "cell_type": "code",
   "execution_count": null,
   "metadata": {},
   "outputs": [],
   "source": [
    "!sudo apt-get install libmetis-dev # https://github.com/colmap/colmap/issues/1469"
   ]
  },
  {
   "cell_type": "markdown",
   "metadata": {},
   "source": [
    "## Run in Google Colab & Drive"
   ]
  },
  {
   "cell_type": "code",
   "execution_count": null,
   "metadata": {},
   "outputs": [],
   "source": [
    "from google.colab import drive\n",
    "drive.mount('/content/drive/', force_remount=True)"
   ]
  },
  {
   "cell_type": "code",
   "execution_count": null,
   "metadata": {},
   "outputs": [],
   "source": [
    "%cd /content\n",
    "!git clone https://github.com/Fyusion/LLFF"
   ]
  },
  {
   "cell_type": "code",
   "execution_count": null,
   "metadata": {},
   "outputs": [],
   "source": [
    "%cd /content/LLFF\n",
    "!python imgs2poses.py /content/PlankHyundong/data/custom_images"
   ]
  },
  {
   "cell_type": "markdown",
   "metadata": {},
   "source": [
    "## Step 3\n",
    "### Run NeRF"
   ]
  },
  {
   "cell_type": "markdown",
   "metadata": {},
   "source": [
    "- We used tensorflow 1.x"
   ]
  },
  {
   "cell_type": "code",
   "execution_count": null,
   "metadata": {},
   "outputs": [],
   "source": [
    "try:\n",
    "    %tensorflow_version 1.x\n",
    "except ValueError:\n",
    "    # 만약 %tensorflow_version 1.x magic 명령어가 작동하지 않는 경우\n",
    "    !pip uninstall --yes tensorflow\n",
    "    !pip install tensorflow==1.15\n",
    "    import tensorflow\n",
    "    print(tensorflow.__version__)"
   ]
  },
  {
   "cell_type": "markdown",
   "metadata": {},
   "source": [
    "- install dependent-packages"
   ]
  },
  {
   "cell_type": "code",
   "execution_count": null,
   "metadata": {},
   "outputs": [],
   "source": [
    "!sudo apt -qq install imagemagick\n",
    "!pip install ConfigArgParse -qqq\n",
    "!pip install imageio-ffmpeg -qqq"
   ]
  },
  {
   "cell_type": "markdown",
   "metadata": {},
   "source": [
    "- clone NeRF source code"
   ]
  },
  {
   "cell_type": "code",
   "execution_count": null,
   "metadata": {},
   "outputs": [],
   "source": [
    "!git clone https://github.com/ProtossDragoon/nerf-wandb.git"
   ]
  },
  {
   "cell_type": "code",
   "execution_count": null,
   "metadata": {},
   "outputs": [],
   "source": []
  },
  {
   "cell_type": "markdown",
   "metadata": {},
   "source": [
    "## Step 4\n",
    "### Get Mesh file"
   ]
  },
  {
   "cell_type": "markdown",
   "metadata": {},
   "source": []
  }
 ],
 "metadata": {
  "kernelspec": {
   "display_name": "Python 3.9.1 64-bit",
   "language": "python",
   "name": "python3"
  },
  "language_info": {
   "codemirror_mode": {
    "name": "ipython",
    "version": 3
   },
   "file_extension": ".py",
   "mimetype": "text/x-python",
   "name": "python",
   "nbconvert_exporter": "python",
   "pygments_lexer": "ipython3",
   "version": "3.9.1"
  },
  "orig_nbformat": 4,
  "vscode": {
   "interpreter": {
    "hash": "aee8b7b246df8f9039afb4144a1f6fd8d2ca17a180786b69acc140d282b71a49"
   }
  }
 },
 "nbformat": 4,
 "nbformat_minor": 2
}
