{
 "cells": [
  {
   "cell_type": "markdown",
   "metadata": {},
   "source": [
    "### Video Sampling notebook"
   ]
  },
  {
   "cell_type": "markdown",
   "metadata": {},
   "source": [
    " - We set the path that saving all data in your `Google Drive`. If you run `PlankHyundong` in your local, please modify 'path' variable.\n",
    " - You can also adjust the number of frame."
   ]
  },
  {
   "cell_type": "markdown",
   "metadata": {},
   "source": [
    "### 📚 Google Drive Directory Structure\n",
    "\n",
    "- content\n",
    "    - data\n",
    "        - video\n",
    "            - video.MOV\n",
    "    - drive\n",
    "        - My Drive\n",
    "            - PlankHyundong\n",
    "                - data\n",
    "                    - logs\n",
    "                    - images\n",
    "                    "
   ]
  },
  {
   "cell_type": "markdown",
   "metadata": {},
   "source": [
    "Load video data from `PlankHyundong` repository"
   ]
  },
  {
   "cell_type": "code",
   "execution_count": null,
   "metadata": {},
   "outputs": [],
   "source": [
    "!git init\n",
    "!git remote add origin https://github.com/ProtossDragoon/PlankHyundong\n",
    "!git config core.sparsecheckout true\n",
    "!echo data/* >> ./.git/info/sparse-checkout\n",
    "!git pull origin main\n",
    "!rm -rf ./git"
   ]
  },
  {
   "cell_type": "markdown",
   "metadata": {},
   "source": [
    "Run in Google Drive"
   ]
  },
  {
   "cell_type": "code",
   "execution_count": null,
   "metadata": {},
   "outputs": [],
   "source": [
    "from google.colab import drive\n",
    "drive.mount('/content/drive')"
   ]
  },
  {
   "cell_type": "markdown",
   "metadata": {},
   "source": [
    "Setting Parameter"
   ]
  },
  {
   "cell_type": "code",
   "execution_count": null,
   "metadata": {},
   "outputs": [],
   "source": [
    "import cv2\n",
    "import os\n",
    "\n",
    "\n",
    "path = '/content/drive/MyDrive'\n",
    "\n",
    "# Video file path\n",
    "data_path = f'{path}/PlankHyundong/data'\n",
    "video_path = './data/video/video.MOV'\n",
    "save_path = f'{path}/PlankHyundong/data/images'\n",
    "log_dir = f'{path}/PlankHyundong/data/logs'\n",
    "\n",
    "os.mkdir(data_path)\n",
    "os.mkdir(save_path)\n",
    "os.mkdir(log_dir)\n",
    "\n",
    "# Set the number of frame\n",
    "frame = 50 #@param {type:\"slider\", min:50, max:400, step:10}"
   ]
  },
  {
   "cell_type": "code",
   "execution_count": null,
   "metadata": {},
   "outputs": [],
   "source": [
    "vidcap = cv2.VideoCapture(video_path)\n",
    "\n",
    "cnt, num = 0, 1 # cnt -> Input frame #, num -> output Frame #.\n",
    "\n",
    "total_length = int(vidcap.get(cv2.CAP_PROP_FRAME_COUNT))\n",
    "cycle = int(total_length / frame) # calculate cycle"
   ]
  },
  {
   "cell_type": "code",
   "execution_count": null,
   "metadata": {},
   "outputs": [],
   "source": [
    "while vidcap.isOpened():\n",
    "    ret,image = vidcap.read()\n",
    "    if num > frame:\n",
    "        break\n",
    "    if ret and cnt % cycle == 0:  \n",
    "        \n",
    "        try:\n",
    "            cv2.imwrite(f\"{save_path}/image{num}.jpg\", image)\n",
    "            num+=1\n",
    "        except:\n",
    "            print(\"fail\")\n",
    "            \n",
    "    cnt += 1\n",
    "    \n",
    "vidcap.release()"
   ]
  }
 ],
 "metadata": {
  "kernelspec": {
   "display_name": "Python 3.9.1 64-bit",
   "language": "python",
   "name": "python3"
  },
  "language_info": {
   "name": "python",
   "version": "3.9.1"
  },
  "orig_nbformat": 4,
  "vscode": {
   "interpreter": {
    "hash": "aee8b7b246df8f9039afb4144a1f6fd8d2ca17a180786b69acc140d282b71a49"
   }
  }
 },
 "nbformat": 4,
 "nbformat_minor": 2
}
